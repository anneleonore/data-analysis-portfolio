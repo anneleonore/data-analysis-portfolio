{
 "cells": [
  {
   "cell_type": "markdown",
   "id": "2ee3a91e-a61e-4bee-892e-39c48504721c",
   "metadata": {},
   "source": [
    "# Data Analysis Portfolio"
   ]
  },
  {
   "cell_type": "markdown",
   "id": "c1bd32e9-b78b-4a71-9663-b958235f5b66",
   "metadata": {},
   "source": [
    "This notebook is part of my data analysis portfolio, where I explore **three** key areas:\n",
    "1. Data processing and visualization\n",
    "2. Data science and machine learning\n",
    "3. Text analysis and insights"
   ]
  },
  {
   "cell_type": "markdown",
   "id": "0694eb9a-2dfa-40a6-901e-57f57eecea94",
   "metadata": {},
   "source": [
    "## Section 1. Data processing and visualization"
   ]
  },
  {
   "cell_type": "markdown",
   "id": "90d7aeb4-64be-459a-be5f-51dd5dc26f68",
   "metadata": {},
   "source": [
    "### General information\n",
    "There are various important packages for *data processing and visualization*. In the example code below, I will be focusing on:\n",
    "- pandas\n",
    "- numpy\n",
    "- statsmodel\n",
    "- matplotlib\n",
    "- seaborn"
   ]
  },
  {
   "cell_type": "markdown",
   "id": "38f29eca-8a95-4478-8d71-5f8f6115259a",
   "metadata": {},
   "source": [
    "### Import required packages"
   ]
  },
  {
   "cell_type": "code",
   "execution_count": null,
   "id": "77f4b51b-bb6a-43eb-923d-5f02c643fb79",
   "metadata": {},
   "outputs": [],
   "source": [
    "#Import packages/modules\n",
    "import matplotlib.pyplot as plt\n",
    "import numpy as np\n",
    "import pandas as pd\n",
    "import seaborn as sns\n",
    "import statsmodels as sm"
   ]
  },
  {
   "cell_type": "markdown",
   "id": "941599b4-e905-4305-bce6-8f3b43e29802",
   "metadata": {},
   "source": [
    "### 1.1 Data Processing\n",
    "<a href=\"https://www.fullstory.com/blog/what-is-data-processing/\">Data processing</a> is a series of operations performed on data to transform, analyze, and organze it in a useful format."
   ]
  },
  {
   "cell_type": "markdown",
   "id": "8c57e068-8120-4820-baa3-25b4d2f0d5b2",
   "metadata": {},
   "source": [
    "#### 1.1.1 Cleaning"
   ]
  },
  {
   "cell_type": "markdown",
   "id": "99a208a8-7ea8-448e-8c47-91a00ec3f9fa",
   "metadata": {},
   "source": [
    "#### 1.1.2 Transforming"
   ]
  },
  {
   "cell_type": "markdown",
   "id": "cbe56dec-caab-4416-bb34-3c67ebd57d47",
   "metadata": {},
   "source": [
    "#### 1.1.3 Merging"
   ]
  },
  {
   "cell_type": "markdown",
   "id": "cde09302-4c65-4d28-b951-0737a778b123",
   "metadata": {},
   "source": [
    "### 1.2 Data Visualization\n",
    "<a href=\"https://www.tableau.com/learn/articles/data-visualization\">Data visualization</a> is the graphical representation of data through use of visual elements, such as charts, graphs, plots, and infographics."
   ]
  },
  {
   "cell_type": "markdown",
   "id": "205a784b-55f9-442c-a077-ece6db194c1c",
   "metadata": {},
   "source": [
    "#### 1.2.1 Static"
   ]
  },
  {
   "cell_type": "markdown",
   "id": "11cb5e65-52f6-4fdf-8e10-2730870a12c5",
   "metadata": {},
   "source": [
    "#### 1.2.2 Dynamic"
   ]
  },
  {
   "cell_type": "markdown",
   "id": "24d8aa97-2568-4af0-b5d9-f19dca88aea9",
   "metadata": {},
   "source": [
    "<hr style=\"border: 0.8px solid black;\">"
   ]
  },
  {
   "cell_type": "markdown",
   "id": "a5bc6c66-b979-4a0f-9746-deb18aaacab1",
   "metadata": {},
   "source": [
    "## Section II. Data science and machine learning"
   ]
  },
  {
   "cell_type": "markdown",
   "id": "34669a01-d0ee-44b6-a16d-958a97da61fe",
   "metadata": {},
   "source": [
    "### General information\n",
    "There are various important packages for *data science and machine learning*. In the example code below, I will be focusing on:\n",
    "- pytorch\n",
    "- scikit-learn"
   ]
  },
  {
   "cell_type": "markdown",
   "id": "aae2139b-0343-41ee-884d-615ec4461010",
   "metadata": {},
   "source": [
    "### Import required packages"
   ]
  },
  {
   "cell_type": "code",
   "execution_count": null,
   "id": "4c29ffa8-1e6c-4c90-b0fd-2527aeada754",
   "metadata": {},
   "outputs": [],
   "source": [
    "#Import packages/modules\n",
    "import sklearn as sk\n",
    "import torch\n",
    "import torch.nn as nn\n",
    "import torch.optim as optim\n",
    "\n",
    "#Import specific objects\n",
    "from torch.utils.data import DataLoader, Dataset"
   ]
  },
  {
   "cell_type": "markdown",
   "id": "75ecb491-65e7-43c7-94e1-a6eac9d2e839",
   "metadata": {},
   "source": [
    "<hr style=\"border: 0.8px solid black;\">"
   ]
  },
  {
   "cell_type": "markdown",
   "id": "d614d506-a500-467c-8a9c-c3d2b576e716",
   "metadata": {},
   "source": [
    "## Section III. Text analysis and insights"
   ]
  },
  {
   "cell_type": "markdown",
   "id": "68fad411-1a81-42b6-bca7-1ab07ec0943b",
   "metadata": {},
   "source": [
    "### General information\n",
    "There are various important packages for *text analysis and insights*. In the example code below, I will be focusing on:\n",
    "- nltk\n",
    "- spacy\n",
    "- gensim\n",
    "- transformers"
   ]
  },
  {
   "cell_type": "markdown",
   "id": "cb807ef8-9fbb-49c7-96f7-125f518c4bda",
   "metadata": {},
   "source": [
    "### Import required packages"
   ]
  },
  {
   "cell_type": "code",
   "execution_count": null,
   "id": "df04a43f-8d4f-45c3-9214-a0aeb59a25ed",
   "metadata": {},
   "outputs": [],
   "source": [
    "#Import packages/modules\n",
    "import gensim\n",
    "import nltk\n",
    "import spacy\n",
    "import transformers\n",
    "\n",
    "#Import specific objects\n",
    "from gensim.models import Word2Vec, TfidfModel\n",
    "from gensim.corpora import Dictionary\n",
    "from nltk.tokenize import word_tokenize\n",
    "from nltk.corpus import stopwords\n",
    "from spacy import displacy\n",
    "from transformers import AutoModelForSequenceClassification, AutoTokenizer"
   ]
  },
  {
   "cell_type": "markdown",
   "id": "6ea99946-e8e3-4f0c-9a9b-9dce7a4cd055",
   "metadata": {},
   "source": [
    "## License and Copyright"
   ]
  },
  {
   "cell_type": "markdown",
   "id": "573a8844-808d-4207-8fcf-122d74389b8a",
   "metadata": {},
   "source": [
    "© 2024 Noor de Bruijn. All rights reserved."
   ]
  }
 ],
 "metadata": {
  "kernelspec": {
   "display_name": "data-analysis-myenv",
   "language": "python",
   "name": "data-analysis-myenv"
  },
  "language_info": {
   "codemirror_mode": {
    "name": "ipython",
    "version": 3
   },
   "file_extension": ".py",
   "mimetype": "text/x-python",
   "name": "python",
   "nbconvert_exporter": "python",
   "pygments_lexer": "ipython3",
   "version": "3.11.5"
  }
 },
 "nbformat": 4,
 "nbformat_minor": 5
}
