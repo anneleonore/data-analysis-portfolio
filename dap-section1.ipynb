{
 "cells": [
  {
   "cell_type": "markdown",
   "id": "1865bc2c-1ce5-47e1-a7a6-7743e7d2cdf6",
   "metadata": {},
   "source": [
    "# Data Analysis Portfolio"
   ]
  },
  {
   "cell_type": "markdown",
   "id": "faf6e512-6c06-4dd5-9b84-815cd6a5b377",
   "metadata": {},
   "source": [
    "This notebook is part of my data analysis portfolio, where I explore **three** key areas:\n",
    "1. Data Processing and Visualization\n",
    "2. Traditional Machine Learning and Deep Learning\n",
    "3. Text Sentiment and Topic Modeling"
   ]
  },
  {
   "cell_type": "code",
   "execution_count": 1,
   "id": "b41a33fa-b27f-4af6-88da-e0d9d37fcb6d",
   "metadata": {},
   "outputs": [],
   "source": [
    "#Import general packages\n",
    "from IPython.display import Image"
   ]
  },
  {
   "cell_type": "markdown",
   "id": "64120cbd-0c97-4df0-8373-9eb7d2d82421",
   "metadata": {},
   "source": [
    "## <span style=\"background-color: #FFE5B4 \">  Section 1. Data Processing and Visualization </span>"
   ]
  },
  {
   "cell_type": "markdown",
   "id": "4ddf091d-b196-4511-8b3a-78e39d8a7a72",
   "metadata": {},
   "source": [
    "### General information\n",
    "There are various important packages for *data processing and visualization*. In the example code below, I will be focusing on:\n",
    "- pandas\n",
    "- numpy\n",
    "- statsmodel\n",
    "- matplotlib\n",
    "- seaborn"
   ]
  },
  {
   "cell_type": "markdown",
   "id": "79959533-5fad-465a-9626-8ef73c71efe9",
   "metadata": {},
   "source": [
    "### Import required packages"
   ]
  },
  {
   "cell_type": "code",
   "execution_count": null,
   "id": "065148e5-5983-4c0c-991f-324eb12a770d",
   "metadata": {},
   "outputs": [],
   "source": [
    "#Import packages/modules\n",
    "import matplotlib.pyplot as plt\n",
    "import numpy as np\n",
    "import pandas as pd\n",
    "import seaborn as sns\n",
    "import statsmodels as sm"
   ]
  },
  {
   "cell_type": "markdown",
   "id": "78c8f49e-37b8-471c-9252-ba22a5bb407e",
   "metadata": {},
   "source": [
    "### <span style=\"background-color: #FFE5B4 \">1.1 Data Processing</span>\n",
    "\n",
    "<a href=\"https://www.fullstory.com/blog/what-is-data-processing/\">Data processing</a> is a series of operations performed on data to transform, analyze, and organze it in a useful format."
   ]
  },
  {
   "cell_type": "markdown",
   "id": "7a8293e8-3d48-448c-baa6-2d39d605a58a",
   "metadata": {},
   "source": [
    "#### 1.1.1 Cleaning"
   ]
  },
  {
   "cell_type": "markdown",
   "id": "71bbbe50-a745-4acf-8f8c-ca7d618d31fa",
   "metadata": {},
   "source": [
    "#### 1.1.2 Transforming"
   ]
  },
  {
   "cell_type": "markdown",
   "id": "75e2f3da-5024-40bf-af0f-0388fb1fa097",
   "metadata": {},
   "source": [
    "#### 1.1.3 Merging"
   ]
  },
  {
   "cell_type": "markdown",
   "id": "a030ad34-952f-4d11-9b6e-9031ea376fef",
   "metadata": {},
   "source": [
    "### <span style=\"background-color: #FFE5B4 \">1.2 Data Visualization</span>\n",
    "\n",
    "<a href=\"https://www.tableau.com/learn/articles/data-visualization\">Data visualization</a> is the graphical representation of data through use of visual elements, such as charts, graphs, plots, and infographics."
   ]
  },
  {
   "cell_type": "markdown",
   "id": "46d29fab-395e-4ebb-8788-31d6391b44e4",
   "metadata": {},
   "source": [
    "#### 1.2.1 Static"
   ]
  },
  {
   "cell_type": "markdown",
   "id": "ade8a323-868c-4bae-a4b3-2592f5ec1974",
   "metadata": {},
   "source": [
    "#### 1.2.2 Dynamic"
   ]
  },
  {
   "cell_type": "markdown",
   "id": "6916d669-df50-40da-a57d-50f6915a0f85",
   "metadata": {},
   "source": [
    "## License and Copyright"
   ]
  },
  {
   "cell_type": "markdown",
   "id": "b3eafbfa-37b1-427b-b14f-d1445ca43fde",
   "metadata": {},
   "source": [
    "© 2024 Noor de Bruijn. All rights reserved."
   ]
  }
 ],
 "metadata": {
  "kernelspec": {
   "display_name": "data-analysis-myenv",
   "language": "python",
   "name": "data-analysis-myenv"
  },
  "language_info": {
   "codemirror_mode": {
    "name": "ipython",
    "version": 3
   },
   "file_extension": ".py",
   "mimetype": "text/x-python",
   "name": "python",
   "nbconvert_exporter": "python",
   "pygments_lexer": "ipython3",
   "version": "3.11.5"
  }
 },
 "nbformat": 4,
 "nbformat_minor": 5
}
